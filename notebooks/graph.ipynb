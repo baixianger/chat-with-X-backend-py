{
 "cells": [
  {
   "cell_type": "markdown",
   "id": "fc88ff4c",
   "metadata": {},
   "source": [
    "Load env"
   ]
  },
  {
   "cell_type": "code",
   "execution_count": 2,
   "id": "6b589229",
   "metadata": {},
   "outputs": [
    {
     "data": {
      "text/plain": [
       "True"
      ]
     },
     "execution_count": 2,
     "metadata": {},
     "output_type": "execute_result"
    }
   ],
   "source": [
    "from dotenv import load_dotenv\n",
    "load_dotenv(dotenv_path=\"../.env\", override=True)"
   ]
  },
  {
   "cell_type": "markdown",
   "id": "7a6a4ebf",
   "metadata": {},
   "source": [
    "Pull Prompts from LangSmith"
   ]
  },
  {
   "cell_type": "code",
   "execution_count": 3,
   "id": "3a591809",
   "metadata": {},
   "outputs": [],
   "source": [
    "from langsmith import Client\n",
    "\n",
    "\"\"\"Default prompts.\"\"\"\n",
    "\n",
    "client = Client()\n",
    "# fetch from langsmith\n",
    "ROUTER_SYSTEM_PROMPT = (\n",
    "    client.pull_prompt(\"langchain-ai/chat-langchain-router-prompt\")\n",
    "    .messages[0]\n",
    "    .prompt.template\n",
    ")\n",
    "GENERATE_QUERIES_SYSTEM_PROMPT = (\n",
    "    client.pull_prompt(\"langchain-ai/chat-langchain-generate-queries-prompt\")\n",
    "    .messages[0]\n",
    "    .prompt.template\n",
    ")\n",
    "MORE_INFO_SYSTEM_PROMPT = (\n",
    "    client.pull_prompt(\"langchain-ai/chat-langchain-more-info-prompt\")\n",
    "    .messages[0]\n",
    "    .prompt.template\n",
    ")\n",
    "RESEARCH_PLAN_SYSTEM_PROMPT = (\n",
    "    client.pull_prompt(\"langchain-ai/chat-langchain-research-plan-prompt\")\n",
    "    .messages[0]\n",
    "    .prompt.template\n",
    ")\n",
    "GENERAL_SYSTEM_PROMPT = (\n",
    "    client.pull_prompt(\"langchain-ai/chat-langchain-general-prompt\")\n",
    "    .messages[0]\n",
    "    .prompt.template\n",
    ")\n",
    "RESPONSE_SYSTEM_PROMPT = (\n",
    "    client.pull_prompt(\"langchain-ai/chat-langchain-response-prompt\")\n",
    "    .messages[0]\n",
    "    .prompt.template\n",
    ")"
   ]
  },
  {
   "cell_type": "code",
   "execution_count": 14,
   "id": "386f33f6",
   "metadata": {},
   "outputs": [
    {
     "data": {
      "text/html": [
       "<pre style=\"white-space:pre;overflow-x:auto;line-height:normal;font-family:Menlo,'DejaVu Sans Mono',consolas,'Courier New',monospace\">You are an expert programmer and problem-solver, tasked with answering any question about LangChain.               \n",
       "\n",
       "Generate a comprehensive and informative answer for the given question based solely on the provided search results \n",
       "(URL and content). Do NOT ramble, and adjust your response length based on the question. If they ask a question    \n",
       "that can be answered in one sentence, do that. If 5 paragraphs of detail is needed, do that. You must only use     \n",
       "information from the provided search results. Use an unbiased and journalistic tone. Combine search results        \n",
       "together into a coherent answer. Do not repeat text. Cite search results using [${{number}}] notation. Only cite   \n",
       "the most relevant results that answer the question accurately. Place these citations at the end of the individual  \n",
       "sentence or paragraph that reference them. Do not put them all at the end, but rather sprinkle them throughout. If \n",
       "different results refer to different entities within the same name, write separate answers for each entity.        \n",
       "\n",
       "You should use bullet points in your answer for readability. Put citations where they apply rather than putting    \n",
       "them all at the end. DO NOT PUT THEM ALL THAT END, PUT THEM IN THE BULLET POINTS.                                  \n",
       "\n",
       "If there is nothing in the context relevant to the question at hand, do NOT make up an answer. Rather, tell them   \n",
       "why you're unsure and ask for any additional information that may help you answer better.                          \n",
       "\n",
       "Sometimes, what a user is asking may NOT be possible. Do NOT tell them that things are possible if you don't see   \n",
       "evidence for it in the context below. If you don't see based in the information below that something is possible,  \n",
       "do NOT say that it is - instead say that you're not sure.                                                          \n",
       "\n",
       "Anything between the following <span style=\"color: #008080; text-decoration-color: #008080; background-color: #000000; font-weight: bold\">context</span> html blocks is retrieved from a knowledge bank, not part of the conversation\n",
       "with the user.                                                                                                     \n",
       "\n",
       "</pre>\n"
      ],
      "text/plain": [
       "You are an expert programmer and problem-solver, tasked with answering any question about LangChain.               \n",
       "\n",
       "Generate a comprehensive and informative answer for the given question based solely on the provided search results \n",
       "(URL and content). Do NOT ramble, and adjust your response length based on the question. If they ask a question    \n",
       "that can be answered in one sentence, do that. If 5 paragraphs of detail is needed, do that. You must only use     \n",
       "information from the provided search results. Use an unbiased and journalistic tone. Combine search results        \n",
       "together into a coherent answer. Do not repeat text. Cite search results using [${{number}}] notation. Only cite   \n",
       "the most relevant results that answer the question accurately. Place these citations at the end of the individual  \n",
       "sentence or paragraph that reference them. Do not put them all at the end, but rather sprinkle them throughout. If \n",
       "different results refer to different entities within the same name, write separate answers for each entity.        \n",
       "\n",
       "You should use bullet points in your answer for readability. Put citations where they apply rather than putting    \n",
       "them all at the end. DO NOT PUT THEM ALL THAT END, PUT THEM IN THE BULLET POINTS.                                  \n",
       "\n",
       "If there is nothing in the context relevant to the question at hand, do NOT make up an answer. Rather, tell them   \n",
       "why you're unsure and ask for any additional information that may help you answer better.                          \n",
       "\n",
       "Sometimes, what a user is asking may NOT be possible. Do NOT tell them that things are possible if you don't see   \n",
       "evidence for it in the context below. If you don't see based in the information below that something is possible,  \n",
       "do NOT say that it is - instead say that you're not sure.                                                          \n",
       "\n",
       "Anything between the following \u001b[1;36;40mcontext\u001b[0m html blocks is retrieved from a knowledge bank, not part of the conversation\n",
       "with the user.                                                                                                     \n",
       "\n"
      ]
     },
     "metadata": {},
     "output_type": "display_data"
    }
   ],
   "source": [
    "from rich.markdown import Markdown\n",
    "from rich.console import Console\n",
    "\n",
    "console = Console()\n",
    "md = Markdown(RESPONSE_SYSTEM_PROMPT)\n",
    "console.print(md)\n"
   ]
  }
 ],
 "metadata": {
  "kernelspec": {
   "display_name": ".venv",
   "language": "python",
   "name": "python3"
  },
  "language_info": {
   "codemirror_mode": {
    "name": "ipython",
    "version": 3
   },
   "file_extension": ".py",
   "mimetype": "text/x-python",
   "name": "python",
   "nbconvert_exporter": "python",
   "pygments_lexer": "ipython3",
   "version": "3.12.11"
  }
 },
 "nbformat": 4,
 "nbformat_minor": 5
}
